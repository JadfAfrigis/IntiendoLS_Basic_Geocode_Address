{
 "cells": [
  {
   "cell_type": "markdown",
   "metadata": {},
   "source": [
    "# Interacting with the AfriGIS IntiendoLS API"
   ]
  },
  {
   "cell_type": "markdown",
   "metadata": {},
   "source": [
    "This notebook includes sample IntiendoLS web service calls."
   ]
  },
  {
   "cell_type": "markdown",
   "metadata": {},
   "source": [
    "## Import Required Libraries"
   ]
  },
  {
   "cell_type": "code",
   "execution_count": null,
   "metadata": {
    "collapsed": true
   },
   "outputs": [],
   "source": [
    "#import required libraries\n",
    "import pandas as pd\n",
    "import hmac\n",
    "import hashlib\n",
    "import base64\n",
    "import urllib\n",
    "import time\n",
    "import json\n",
    "import numpy as np"
   ]
  },
  {
   "cell_type": "markdown",
   "metadata": {},
   "source": [
    "##  intiendols.basic.geocode.address.2"
   ]
  },
  {
   "cell_type": "markdown",
   "metadata": {},
   "source": [
    "Define a function to generate the request URL for the IntiendoLS intiendols.basic.geocode.address.2 web service."
   ]
  },
  {
   "cell_type": "code",
   "execution_count": null,
   "metadata": {},
   "outputs": [],
   "source": [
    "#define function to generate URL for the intiendols.basic.geocode.address.2 web service\n",
    "\n",
    "#mandatory parameters to the web service:\n",
    "#key\n",
    "#secret\n",
    "#ils_location\n",
    "\n",
    "#optional parameters to the web service:\n",
    "# ils_result_count\n",
    "# ils_result_start\n",
    "# ils_addresstypes\n",
    "# ils_groups\n",
    "# indent\n",
    "# callback\n",
    "\n",
    "def geocodeAddress(key, secret, ils_location, ils_result_count=np.NaN, \\\n",
    "                   ils_result_start=np.NaN, ils_addresstypes=np.NaN, ils_groups=np.NaN, \\\n",
    "                   indent=np.NaN, callback=np.NaN, useTrial=False, useTimestamp=False):\n",
    "    \n",
    "    webservice='intiendols.basic.geocode.address.2'\n",
    "    queryString = 'ils_location=' + urllib.parse.quote_plus(ils_location)\n",
    "    \n",
    "    #append optional parameters to queryString if they are specified\n",
    "    if not pd.isnull(ils_result_count):\n",
    "        queryString=queryString + '&ils_result_count=' + str(ils_result_count)\n",
    "    \n",
    "    if not pd.isnull(ils_result_start):\n",
    "        queryString=queryString + '&ils_result_start=' + str(ils_result_count)\n",
    "        \n",
    "    if not pd.isnull(ils_addresstypes):\n",
    "        queryString=queryString + '&ils_addresstypes=' + str(ils_addresstypes)\n",
    "        \n",
    "    if not pd.isnull(ils_groups):\n",
    "        queryString=queryString + '&ils_groups=' + str(ils_groups)\n",
    "        \n",
    "    if not pd.isnull(indent):\n",
    "        queryString=queryString + '&indent='\"'true'\"'' \n",
    "    \n",
    "    if not pd.isnull(callback):\n",
    "        queryString=queryString + '&callback=' + str(callback)\n",
    "\n",
    "    \n",
    "    message = queryString + '/' + webservice + '/' + key\n",
    "    \n",
    "    timestamp = str(int(time.time()))\n",
    "    if (useTimestamp):\n",
    "        message = message + '/' + timestamp\n",
    "    \n",
    "    if (useTrial):\n",
    "        authCode = 'trial'\n",
    "    else:\n",
    "        digest = hmac.new(key=secret.encode(), msg=message.encode(), digestmod=hashlib.sha1).digest()\n",
    "        b64 = base64.b64encode(digest).decode()\n",
    "        authCode = b64.replace('+','-').replace('/','_').replace('=','')\n",
    "    \n",
    "    baseUrl = 'https://saas.afrigis.co.za/rest/2/'\n",
    "    request = baseUrl + webservice + '/' + key + '/' + authCode\n",
    "    if (useTimestamp):\n",
    "        request = request + '/' + timestamp\n",
    "    request = request + '/?' + queryString\n",
    "    return request"
   ]
  },
  {
   "cell_type": "markdown",
   "metadata": {},
   "source": [
    "Apply the function to a sample address, i.e. geocode a sample address, and display the JSON response."
   ]
  },
  {
   "cell_type": "code",
   "execution_count": null,
   "metadata": {},
   "outputs": [],
   "source": [
    "#mandatory parameters to the intiendols.basic.geocode.address.2 web service:\n",
    "address='446 rigel avenue erasmusrand' #specify the address that you want to geocode\n",
    "secret='' #specify your SaaS secret\n",
    "key='' #specify your SaaS key\n",
    "\n",
    "#optionally specify the optional parameters to the intiendols.basic.geocode.address.2 web service.\n",
    "#See https://developers.afrigis.co.za/portfolio/search/#geov2 for more information.\n",
    "\n",
    "#optional parameters:\n",
    "ils_result_count=np.NaN #The total number (integer without quotation marks) of results the geocoder must match the \n",
    "#input query with. This parameter will restrict results from the geocoder.\n",
    "\n",
    "ils_result_start=np.NaN #The starting number (whole number without quotation marks) where the geocoder must start \n",
    "#matching the input query with. This parameter will restrict results from the geocoder. The first result starts at 0, not 1.\n",
    "\n",
    "ils_addresstypes=np.NaN #A list of address types specified as an array [] or as a comma-separated list, to which \n",
    "#to limit the results. See https://developers.afrigis.co.za/portfolio/search/#filter_address_types for more information.\n",
    "\n",
    "ils_groups=np.NaN #One or more groupings specified as an array [] or as a comma-separated list. \n",
    "#Specifying the grouping will enforce the geocoder to add the grouping as part of the result array. \n",
    "\n",
    "indent=np.NaN #Specify “true” to format the JSON response in a human-friendly form. Default is “false” to \n",
    "#format the JSON response in a compact form.\n",
    "\n",
    "callback=np.NaN #The callback function name for a JSONP request if you wish to force a cross domain request.\n",
    "useTrial=False\n",
    "useTimestamp=False\n",
    "\n",
    "\n",
    "#generate request URL using the defined geocodeAddress function\n",
    "url=geocodeAddress(key=key, ils_location=address , secret=secret, ils_result_count=ils_result_count, \\\n",
    "                   ils_result_start=ils_result_start, ils_addresstypes=ils_addresstypes, ils_groups=ils_groups, \\\n",
    "                   indent=indent,callback=callback,useTrial=useTrial,useTimestamp=useTimestamp)\n",
    "\n",
    "print(\"Request URL: \" + '\\n' + '\\n' + str(url) + '\\n' + '\\n' + 'JSON Response: ' + '\\n')\n",
    "response=urllib.request.urlopen(url).read().decode()\n",
    "resp=json.loads(response)\n",
    "print(json.dumps(resp, indent=4))\n",
    "\n",
    "#extract the SEOID from the first result for submission to the geocode.details web service\n",
    "SEOID=resp['result'][0]['seoid']"
   ]
  },
  {
   "cell_type": "markdown",
   "metadata": {},
   "source": [
    "## intiendols.basic.geocode.details.2"
   ]
  },
  {
   "cell_type": "markdown",
   "metadata": {},
   "source": [
    "Define a function to generate the request URL for the IntiendoLS intiendols.basic.geocode.details.2 web service."
   ]
  },
  {
   "cell_type": "code",
   "execution_count": null,
   "metadata": {
    "collapsed": true
   },
   "outputs": [],
   "source": [
    "#define function to generate URL for the intiendols.basic.geocode.details.2 web service\n",
    "\n",
    "#Mandatory parameters to the web service:\n",
    "#key\n",
    "#secret\n",
    "#ils_reference\n",
    "\n",
    "#Optional parameters to the web service:\n",
    "#ils_groups\n",
    "#indent\n",
    "#callback\n",
    "\n",
    "def geocodeDetails(key, secret, ils_reference, ils_groups=np.NaN, indent=np.NaN, callback=np.NaN \\\n",
    "                   ,useTrial=False,useTimestamp=False):\n",
    "    \n",
    "    webservice='intiendols.basic.geocode.details.2'\n",
    "    \n",
    "    queryString = 'ils_reference=' + urllib.parse.quote_plus(ils_reference)\n",
    "    \n",
    "    if not pd.isnull(ils_groups):\n",
    "        queryString=queryString + '&ils_groups=' + urllib.parse.quote_plus(ils_groups)\n",
    "        \n",
    "    if not pd.isnull(indent):\n",
    "        queryString=queryString + '&indent=' + urllib.parse.quote_plus(indent)\n",
    "        \n",
    "    if not pd.isnull(callback):\n",
    "        queryString=queryString + '&indent=' + urllib.parse.quote_plus(callback)\n",
    "        \n",
    "    message = queryString + '/' + webservice + '/' + key\n",
    "    \n",
    "    timestamp = str(int(time.time()))\n",
    "    if (useTimestamp):\n",
    "        message = message + '/' + timestamp\n",
    "    \n",
    "    if (useTrial):\n",
    "        authCode = 'trial'\n",
    "    else:\n",
    "        digest = hmac.new(key=secret.encode(), msg=message.encode(), digestmod=hashlib.sha1).digest()\n",
    "        b64 = base64.b64encode(digest).decode()\n",
    "        authCode = b64.replace('+','-').replace('/','_').replace('=','')\n",
    "    \n",
    "    baseUrl = 'https://saas.afrigis.co.za/rest/2/'\n",
    "    request = baseUrl + webservice + '/' + key + '/' + authCode\n",
    "    if (useTimestamp):\n",
    "        request = request + '/' + timestamp\n",
    "    request = request + '/?' + queryString\n",
    "    return request"
   ]
  },
  {
   "cell_type": "markdown",
   "metadata": {},
   "source": [
    "Apply the function to a sample address, i.e. geocode.details a sample address, and display the JSON response."
   ]
  },
  {
   "cell_type": "code",
   "execution_count": null,
   "metadata": {},
   "outputs": [],
   "source": [
    "#generate request URL using the defined geocodeDetails function\n",
    "\n",
    "#mandatory parameters to the intiendols.basic.geocode.details.2 web service:\n",
    "ils_reference=SEOID #specify the SEOID of the address of interest\n",
    "secret=secret #specify your SaaS secret\n",
    "key=key #specify your SaaS key\n",
    "\n",
    "#Optionally specify the optional parameters to the intiendols.basic.geocode.details.2 web service.\n",
    "#See https://developers.afrigis.co.za/portfolio/search/#details for more information.\n",
    "\n",
    "ils_groups='address_component' #One or more groupings specified as an array [] or as a comma-separated list. Specifying the grouping \n",
    "#will enforce the geocoder to add the grouping as part of the result array.\n",
    "\n",
    "#ils_groups options:\n",
    "#address_component\n",
    "#geometry\n",
    "#metadata\n",
    "\n",
    "indent=np.NaN #Specify “true” to format the JSON response in a human-friendly form. Default is “false” to format the\n",
    "#JSON response in a compact form.\n",
    "\n",
    "callback=np.NaN #The callback function name for a JSONP request if you wish to force a cross domain request.\n",
    "\n",
    "\n",
    "url=geocodeDetails(key=key, secret=secret, ils_reference=ils_reference, ils_groups=ils_groups, \\\n",
    "                   indent=indent, callback=callback)\n",
    "\n",
    "print(\"Request URL: \" + \"\\n\" + \"\\n\" + str(url) + '\\n' + '\\n' + 'JSON Response: ' + '\\n')\n",
    "response=urllib.request.urlopen(url).read().decode()\n",
    "resp=json.loads(response)\n",
    "print(json.dumps(resp, indent=4))"
   ]
  }
 ],
 "metadata": {
  "kernelspec": {
   "display_name": "Python 3",
   "language": "python",
   "name": "python3"
  },
  "language_info": {
   "codemirror_mode": {
    "name": "ipython",
    "version": 3
   },
   "file_extension": ".py",
   "mimetype": "text/x-python",
   "name": "python",
   "nbconvert_exporter": "python",
   "pygments_lexer": "ipython3",
   "version": "3.6.1"
  }
 },
 "nbformat": 4,
 "nbformat_minor": 2
}
